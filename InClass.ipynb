{
 "cells": [
  {
   "cell_type": "markdown",
   "id": "d3edd0f4-d1bb-468f-b7fc-3c04749b5e1c",
   "metadata": {},
   "source": [
    "## Topics we will cover:\n",
    "- Assignments\n",
    "- Printing\n",
    "- Strings\n",
    "- Decision Structures\n",
    "- Iteration\n",
    "- Functions\n",
    "- Data Structures (Lists, Dictionaries)\n",
    "- Modules"
   ]
  },
  {
   "cell_type": "code",
   "execution_count": null,
   "id": "d8b4e7dd-0310-4f6c-973d-76bc4ec156a6",
   "metadata": {},
   "outputs": [],
   "source": []
  }
 ],
 "metadata": {
  "kernelspec": {
   "display_name": "Python 3 (ipykernel)",
   "language": "python",
   "name": "python3"
  },
  "language_info": {
   "codemirror_mode": {
    "name": "ipython",
    "version": 3
   },
   "file_extension": ".py",
   "mimetype": "text/x-python",
   "name": "python",
   "nbconvert_exporter": "python",
   "pygments_lexer": "ipython3",
   "version": "3.9.7"
  }
 },
 "nbformat": 4,
 "nbformat_minor": 5
}
